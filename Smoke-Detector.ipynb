{
 "cells": [
  {
   "cell_type": "markdown",
   "id": "4aebad46",
   "metadata": {},
   "source": [
    "# Importing libraries...."
   ]
  },
  {
   "cell_type": "code",
   "execution_count": 1,
   "id": "fa08bf00",
   "metadata": {},
   "outputs": [],
   "source": [
    "import numpy as np\n",
    "import pandas as pd\n",
    "import matplotlib.pyplot as plt\n",
    "import tensorflow as tf\n",
    "import seaborn as sns\n",
    "import missingno as msno\n",
    "import warnings\n",
    "from sklearn.preprocessing import MinMaxScaler\n",
    "from sklearn.model_selection import train_test_split\n",
    "from sklearn.ensemble import RandomForestClassifier, ExtraTreesClassifier, GradientBoostingClassifier, AdaBoostClassifier\n",
    "from sklearn.neighbors import KNeighborsClassifier\n",
    "from sklearn.tree import DecisionTreeClassifier\n",
    "from sklearn.linear_model import LogisticRegression\n",
    "from sklearn.svm import SVC\n",
    "from sklearn.naive_bayes import GaussianNB\n",
    "from sklearn.metrics import confusion_matrix,accuracy_score"
   ]
  },
  {
   "cell_type": "code",
   "execution_count": 2,
   "id": "23d98ccf",
   "metadata": {},
   "outputs": [],
   "source": [
    "# filter warnings....\n",
    "warnings.filterwarnings(\"ignore\")"
   ]
  },
  {
   "cell_type": "markdown",
   "id": "e282b37e",
   "metadata": {},
   "source": [
    "# EDA"
   ]
  },
  {
   "cell_type": "code",
   "execution_count": 3,
   "id": "5f4b79ef",
   "metadata": {},
   "outputs": [],
   "source": [
    "plt.style.use(\"seaborn-pastel\")"
   ]
  },
  {
   "cell_type": "code",
   "execution_count": 4,
   "id": "c7f9e073",
   "metadata": {},
   "outputs": [
    {
     "data": {
      "text/html": [
       "<div>\n",
       "<style scoped>\n",
       "    .dataframe tbody tr th:only-of-type {\n",
       "        vertical-align: middle;\n",
       "    }\n",
       "\n",
       "    .dataframe tbody tr th {\n",
       "        vertical-align: top;\n",
       "    }\n",
       "\n",
       "    .dataframe thead th {\n",
       "        text-align: right;\n",
       "    }\n",
       "</style>\n",
       "<table border=\"1\" class=\"dataframe\">\n",
       "  <thead>\n",
       "    <tr style=\"text-align: right;\">\n",
       "      <th></th>\n",
       "      <th>Unnamed: 0</th>\n",
       "      <th>UTC</th>\n",
       "      <th>Temperature[C]</th>\n",
       "      <th>Humidity[%]</th>\n",
       "      <th>TVOC[ppb]</th>\n",
       "      <th>eCO2[ppm]</th>\n",
       "      <th>Raw H2</th>\n",
       "      <th>Raw Ethanol</th>\n",
       "      <th>Pressure[hPa]</th>\n",
       "      <th>PM1.0</th>\n",
       "      <th>PM2.5</th>\n",
       "      <th>NC0.5</th>\n",
       "      <th>NC1.0</th>\n",
       "      <th>NC2.5</th>\n",
       "      <th>CNT</th>\n",
       "      <th>Fire Alarm</th>\n",
       "    </tr>\n",
       "  </thead>\n",
       "  <tbody>\n",
       "    <tr>\n",
       "      <th>0</th>\n",
       "      <td>0</td>\n",
       "      <td>1654733331</td>\n",
       "      <td>20.000</td>\n",
       "      <td>57.36</td>\n",
       "      <td>0</td>\n",
       "      <td>400</td>\n",
       "      <td>12306</td>\n",
       "      <td>18520</td>\n",
       "      <td>939.735</td>\n",
       "      <td>0.0</td>\n",
       "      <td>0.00</td>\n",
       "      <td>0.0</td>\n",
       "      <td>0.000</td>\n",
       "      <td>0.00</td>\n",
       "      <td>0</td>\n",
       "      <td>0</td>\n",
       "    </tr>\n",
       "    <tr>\n",
       "      <th>1</th>\n",
       "      <td>1</td>\n",
       "      <td>1654733332</td>\n",
       "      <td>20.015</td>\n",
       "      <td>56.67</td>\n",
       "      <td>0</td>\n",
       "      <td>400</td>\n",
       "      <td>12345</td>\n",
       "      <td>18651</td>\n",
       "      <td>939.744</td>\n",
       "      <td>0.0</td>\n",
       "      <td>0.00</td>\n",
       "      <td>0.0</td>\n",
       "      <td>0.000</td>\n",
       "      <td>0.00</td>\n",
       "      <td>1</td>\n",
       "      <td>0</td>\n",
       "    </tr>\n",
       "    <tr>\n",
       "      <th>2</th>\n",
       "      <td>2</td>\n",
       "      <td>1654733333</td>\n",
       "      <td>20.029</td>\n",
       "      <td>55.96</td>\n",
       "      <td>0</td>\n",
       "      <td>400</td>\n",
       "      <td>12374</td>\n",
       "      <td>18764</td>\n",
       "      <td>939.738</td>\n",
       "      <td>0.0</td>\n",
       "      <td>0.00</td>\n",
       "      <td>0.0</td>\n",
       "      <td>0.000</td>\n",
       "      <td>0.00</td>\n",
       "      <td>2</td>\n",
       "      <td>0</td>\n",
       "    </tr>\n",
       "    <tr>\n",
       "      <th>3</th>\n",
       "      <td>3</td>\n",
       "      <td>1654733334</td>\n",
       "      <td>20.044</td>\n",
       "      <td>55.28</td>\n",
       "      <td>0</td>\n",
       "      <td>400</td>\n",
       "      <td>12390</td>\n",
       "      <td>18849</td>\n",
       "      <td>939.736</td>\n",
       "      <td>0.0</td>\n",
       "      <td>0.00</td>\n",
       "      <td>0.0</td>\n",
       "      <td>0.000</td>\n",
       "      <td>0.00</td>\n",
       "      <td>3</td>\n",
       "      <td>0</td>\n",
       "    </tr>\n",
       "    <tr>\n",
       "      <th>4</th>\n",
       "      <td>4</td>\n",
       "      <td>1654733335</td>\n",
       "      <td>20.059</td>\n",
       "      <td>54.69</td>\n",
       "      <td>0</td>\n",
       "      <td>400</td>\n",
       "      <td>12403</td>\n",
       "      <td>18921</td>\n",
       "      <td>939.744</td>\n",
       "      <td>0.0</td>\n",
       "      <td>0.00</td>\n",
       "      <td>0.0</td>\n",
       "      <td>0.000</td>\n",
       "      <td>0.00</td>\n",
       "      <td>4</td>\n",
       "      <td>0</td>\n",
       "    </tr>\n",
       "    <tr>\n",
       "      <th>5</th>\n",
       "      <td>5</td>\n",
       "      <td>1654733336</td>\n",
       "      <td>20.073</td>\n",
       "      <td>54.12</td>\n",
       "      <td>0</td>\n",
       "      <td>400</td>\n",
       "      <td>12419</td>\n",
       "      <td>18998</td>\n",
       "      <td>939.725</td>\n",
       "      <td>0.0</td>\n",
       "      <td>0.00</td>\n",
       "      <td>0.0</td>\n",
       "      <td>0.000</td>\n",
       "      <td>0.00</td>\n",
       "      <td>5</td>\n",
       "      <td>0</td>\n",
       "    </tr>\n",
       "    <tr>\n",
       "      <th>6</th>\n",
       "      <td>6</td>\n",
       "      <td>1654733337</td>\n",
       "      <td>20.088</td>\n",
       "      <td>53.61</td>\n",
       "      <td>0</td>\n",
       "      <td>400</td>\n",
       "      <td>12432</td>\n",
       "      <td>19058</td>\n",
       "      <td>939.738</td>\n",
       "      <td>0.0</td>\n",
       "      <td>0.00</td>\n",
       "      <td>0.0</td>\n",
       "      <td>0.000</td>\n",
       "      <td>0.00</td>\n",
       "      <td>6</td>\n",
       "      <td>0</td>\n",
       "    </tr>\n",
       "    <tr>\n",
       "      <th>7</th>\n",
       "      <td>7</td>\n",
       "      <td>1654733338</td>\n",
       "      <td>20.103</td>\n",
       "      <td>53.20</td>\n",
       "      <td>0</td>\n",
       "      <td>400</td>\n",
       "      <td>12439</td>\n",
       "      <td>19114</td>\n",
       "      <td>939.758</td>\n",
       "      <td>0.0</td>\n",
       "      <td>0.00</td>\n",
       "      <td>0.0</td>\n",
       "      <td>0.000</td>\n",
       "      <td>0.00</td>\n",
       "      <td>7</td>\n",
       "      <td>0</td>\n",
       "    </tr>\n",
       "    <tr>\n",
       "      <th>8</th>\n",
       "      <td>8</td>\n",
       "      <td>1654733339</td>\n",
       "      <td>20.117</td>\n",
       "      <td>52.81</td>\n",
       "      <td>0</td>\n",
       "      <td>400</td>\n",
       "      <td>12448</td>\n",
       "      <td>19155</td>\n",
       "      <td>939.758</td>\n",
       "      <td>0.0</td>\n",
       "      <td>0.00</td>\n",
       "      <td>0.0</td>\n",
       "      <td>0.000</td>\n",
       "      <td>0.00</td>\n",
       "      <td>8</td>\n",
       "      <td>0</td>\n",
       "    </tr>\n",
       "    <tr>\n",
       "      <th>9</th>\n",
       "      <td>9</td>\n",
       "      <td>1654733340</td>\n",
       "      <td>20.132</td>\n",
       "      <td>52.46</td>\n",
       "      <td>0</td>\n",
       "      <td>400</td>\n",
       "      <td>12453</td>\n",
       "      <td>19195</td>\n",
       "      <td>939.756</td>\n",
       "      <td>0.9</td>\n",
       "      <td>3.78</td>\n",
       "      <td>0.0</td>\n",
       "      <td>4.369</td>\n",
       "      <td>2.78</td>\n",
       "      <td>9</td>\n",
       "      <td>0</td>\n",
       "    </tr>\n",
       "  </tbody>\n",
       "</table>\n",
       "</div>"
      ],
      "text/plain": [
       "   Unnamed: 0         UTC  Temperature[C]  Humidity[%]  TVOC[ppb]  eCO2[ppm]  \\\n",
       "0           0  1654733331          20.000        57.36          0        400   \n",
       "1           1  1654733332          20.015        56.67          0        400   \n",
       "2           2  1654733333          20.029        55.96          0        400   \n",
       "3           3  1654733334          20.044        55.28          0        400   \n",
       "4           4  1654733335          20.059        54.69          0        400   \n",
       "5           5  1654733336          20.073        54.12          0        400   \n",
       "6           6  1654733337          20.088        53.61          0        400   \n",
       "7           7  1654733338          20.103        53.20          0        400   \n",
       "8           8  1654733339          20.117        52.81          0        400   \n",
       "9           9  1654733340          20.132        52.46          0        400   \n",
       "\n",
       "   Raw H2  Raw Ethanol  Pressure[hPa]  PM1.0  PM2.5  NC0.5  NC1.0  NC2.5  CNT  \\\n",
       "0   12306        18520        939.735    0.0   0.00    0.0  0.000   0.00    0   \n",
       "1   12345        18651        939.744    0.0   0.00    0.0  0.000   0.00    1   \n",
       "2   12374        18764        939.738    0.0   0.00    0.0  0.000   0.00    2   \n",
       "3   12390        18849        939.736    0.0   0.00    0.0  0.000   0.00    3   \n",
       "4   12403        18921        939.744    0.0   0.00    0.0  0.000   0.00    4   \n",
       "5   12419        18998        939.725    0.0   0.00    0.0  0.000   0.00    5   \n",
       "6   12432        19058        939.738    0.0   0.00    0.0  0.000   0.00    6   \n",
       "7   12439        19114        939.758    0.0   0.00    0.0  0.000   0.00    7   \n",
       "8   12448        19155        939.758    0.0   0.00    0.0  0.000   0.00    8   \n",
       "9   12453        19195        939.756    0.9   3.78    0.0  4.369   2.78    9   \n",
       "\n",
       "   Fire Alarm  \n",
       "0           0  \n",
       "1           0  \n",
       "2           0  \n",
       "3           0  \n",
       "4           0  \n",
       "5           0  \n",
       "6           0  \n",
       "7           0  \n",
       "8           0  \n",
       "9           0  "
      ]
     },
     "execution_count": 4,
     "metadata": {},
     "output_type": "execute_result"
    }
   ],
   "source": [
    "# getting the data....\n",
    "df = pd.read_csv(\"smoke_detection_iot.csv\")\n",
    "df.head(10)"
   ]
  },
  {
   "cell_type": "code",
   "execution_count": 5,
   "id": "4e619e76",
   "metadata": {},
   "outputs": [
    {
     "data": {
      "text/html": [
       "<div>\n",
       "<style scoped>\n",
       "    .dataframe tbody tr th:only-of-type {\n",
       "        vertical-align: middle;\n",
       "    }\n",
       "\n",
       "    .dataframe tbody tr th {\n",
       "        vertical-align: top;\n",
       "    }\n",
       "\n",
       "    .dataframe thead th {\n",
       "        text-align: right;\n",
       "    }\n",
       "</style>\n",
       "<table border=\"1\" class=\"dataframe\">\n",
       "  <thead>\n",
       "    <tr style=\"text-align: right;\">\n",
       "      <th></th>\n",
       "      <th>Unnamed: 0</th>\n",
       "      <th>UTC</th>\n",
       "      <th>Temperature</th>\n",
       "      <th>Humidity</th>\n",
       "      <th>TVOC</th>\n",
       "      <th>eCO2</th>\n",
       "      <th>Raw H2</th>\n",
       "      <th>Raw Ethanol</th>\n",
       "      <th>Pressure</th>\n",
       "      <th>PM1.0</th>\n",
       "      <th>PM2.5</th>\n",
       "      <th>NC0.5</th>\n",
       "      <th>NC1.0</th>\n",
       "      <th>NC2.5</th>\n",
       "      <th>CNT</th>\n",
       "      <th>Fire Alarm</th>\n",
       "    </tr>\n",
       "  </thead>\n",
       "  <tbody>\n",
       "    <tr>\n",
       "      <th>62625</th>\n",
       "      <td>62625</td>\n",
       "      <td>1655130047</td>\n",
       "      <td>18.438</td>\n",
       "      <td>15.79</td>\n",
       "      <td>625</td>\n",
       "      <td>400</td>\n",
       "      <td>13723</td>\n",
       "      <td>20569</td>\n",
       "      <td>936.670</td>\n",
       "      <td>0.63</td>\n",
       "      <td>0.65</td>\n",
       "      <td>4.32</td>\n",
       "      <td>0.673</td>\n",
       "      <td>0.015</td>\n",
       "      <td>5739</td>\n",
       "      <td>0</td>\n",
       "    </tr>\n",
       "    <tr>\n",
       "      <th>62626</th>\n",
       "      <td>62626</td>\n",
       "      <td>1655130048</td>\n",
       "      <td>18.653</td>\n",
       "      <td>15.87</td>\n",
       "      <td>612</td>\n",
       "      <td>400</td>\n",
       "      <td>13731</td>\n",
       "      <td>20588</td>\n",
       "      <td>936.678</td>\n",
       "      <td>0.61</td>\n",
       "      <td>0.63</td>\n",
       "      <td>4.18</td>\n",
       "      <td>0.652</td>\n",
       "      <td>0.015</td>\n",
       "      <td>5740</td>\n",
       "      <td>0</td>\n",
       "    </tr>\n",
       "    <tr>\n",
       "      <th>62627</th>\n",
       "      <td>62627</td>\n",
       "      <td>1655130049</td>\n",
       "      <td>18.867</td>\n",
       "      <td>15.84</td>\n",
       "      <td>627</td>\n",
       "      <td>400</td>\n",
       "      <td>13725</td>\n",
       "      <td>20582</td>\n",
       "      <td>936.687</td>\n",
       "      <td>0.57</td>\n",
       "      <td>0.60</td>\n",
       "      <td>3.95</td>\n",
       "      <td>0.617</td>\n",
       "      <td>0.014</td>\n",
       "      <td>5741</td>\n",
       "      <td>0</td>\n",
       "    </tr>\n",
       "    <tr>\n",
       "      <th>62628</th>\n",
       "      <td>62628</td>\n",
       "      <td>1655130050</td>\n",
       "      <td>19.083</td>\n",
       "      <td>16.04</td>\n",
       "      <td>638</td>\n",
       "      <td>400</td>\n",
       "      <td>13712</td>\n",
       "      <td>20566</td>\n",
       "      <td>936.680</td>\n",
       "      <td>0.57</td>\n",
       "      <td>0.59</td>\n",
       "      <td>3.92</td>\n",
       "      <td>0.611</td>\n",
       "      <td>0.014</td>\n",
       "      <td>5742</td>\n",
       "      <td>0</td>\n",
       "    </tr>\n",
       "    <tr>\n",
       "      <th>62629</th>\n",
       "      <td>62629</td>\n",
       "      <td>1655130051</td>\n",
       "      <td>19.299</td>\n",
       "      <td>16.52</td>\n",
       "      <td>643</td>\n",
       "      <td>400</td>\n",
       "      <td>13696</td>\n",
       "      <td>20543</td>\n",
       "      <td>936.676</td>\n",
       "      <td>0.57</td>\n",
       "      <td>0.59</td>\n",
       "      <td>3.90</td>\n",
       "      <td>0.607</td>\n",
       "      <td>0.014</td>\n",
       "      <td>5743</td>\n",
       "      <td>0</td>\n",
       "    </tr>\n",
       "  </tbody>\n",
       "</table>\n",
       "</div>"
      ],
      "text/plain": [
       "       Unnamed: 0         UTC  Temperature  Humidity  TVOC  eCO2  Raw H2  \\\n",
       "62625       62625  1655130047       18.438     15.79   625   400   13723   \n",
       "62626       62626  1655130048       18.653     15.87   612   400   13731   \n",
       "62627       62627  1655130049       18.867     15.84   627   400   13725   \n",
       "62628       62628  1655130050       19.083     16.04   638   400   13712   \n",
       "62629       62629  1655130051       19.299     16.52   643   400   13696   \n",
       "\n",
       "       Raw Ethanol  Pressure  PM1.0  PM2.5  NC0.5  NC1.0  NC2.5   CNT  \\\n",
       "62625        20569   936.670   0.63   0.65   4.32  0.673  0.015  5739   \n",
       "62626        20588   936.678   0.61   0.63   4.18  0.652  0.015  5740   \n",
       "62627        20582   936.687   0.57   0.60   3.95  0.617  0.014  5741   \n",
       "62628        20566   936.680   0.57   0.59   3.92  0.611  0.014  5742   \n",
       "62629        20543   936.676   0.57   0.59   3.90  0.607  0.014  5743   \n",
       "\n",
       "       Fire Alarm  \n",
       "62625           0  \n",
       "62626           0  \n",
       "62627           0  \n",
       "62628           0  \n",
       "62629           0  "
      ]
     },
     "execution_count": 5,
     "metadata": {},
     "output_type": "execute_result"
    }
   ],
   "source": [
    "# rename column names...\n",
    "df = df.rename(columns={\"Temperature[C]\" : \"Temperature\", \"Humidity[%]\" : \"Humidity\", \"TVOC[ppb]\" : \"TVOC\",\n",
    "                       \"eCO2[ppm]\" : \"eCO2\" , \"Pressure[hPa]\" : \"Pressure\", })\n",
    "df.tail()"
   ]
  },
  {
   "cell_type": "code",
   "execution_count": 6,
   "id": "fba5e6c7",
   "metadata": {},
   "outputs": [
    {
     "name": "stdout",
     "output_type": "stream",
     "text": [
      "<class 'pandas.core.frame.DataFrame'>\n",
      "RangeIndex: 62630 entries, 0 to 62629\n",
      "Data columns (total 16 columns):\n",
      " #   Column       Non-Null Count  Dtype  \n",
      "---  ------       --------------  -----  \n",
      " 0   Unnamed: 0   62630 non-null  int64  \n",
      " 1   UTC          62630 non-null  int64  \n",
      " 2   Temperature  62630 non-null  float64\n",
      " 3   Humidity     62630 non-null  float64\n",
      " 4   TVOC         62630 non-null  int64  \n",
      " 5   eCO2         62630 non-null  int64  \n",
      " 6   Raw H2       62630 non-null  int64  \n",
      " 7   Raw Ethanol  62630 non-null  int64  \n",
      " 8   Pressure     62630 non-null  float64\n",
      " 9   PM1.0        62630 non-null  float64\n",
      " 10  PM2.5        62630 non-null  float64\n",
      " 11  NC0.5        62630 non-null  float64\n",
      " 12  NC1.0        62630 non-null  float64\n",
      " 13  NC2.5        62630 non-null  float64\n",
      " 14  CNT          62630 non-null  int64  \n",
      " 15  Fire Alarm   62630 non-null  int64  \n",
      "dtypes: float64(8), int64(8)\n",
      "memory usage: 7.6 MB\n"
     ]
    }
   ],
   "source": [
    "# getting the data info....\n",
    "df.info()"
   ]
  },
  {
   "cell_type": "code",
   "execution_count": 7,
   "id": "331469f7",
   "metadata": {},
   "outputs": [
    {
     "data": {
      "text/plain": [
       "(62630, 16)"
      ]
     },
     "execution_count": 7,
     "metadata": {},
     "output_type": "execute_result"
    }
   ],
   "source": [
    "# checking the shape of data...\n",
    "df.shape"
   ]
  },
  {
   "cell_type": "code",
   "execution_count": 8,
   "id": "c69b83cb",
   "metadata": {},
   "outputs": [
    {
     "data": {
      "text/plain": [
       "Unnamed: 0     0\n",
       "UTC            0\n",
       "Temperature    0\n",
       "Humidity       0\n",
       "TVOC           0\n",
       "eCO2           0\n",
       "Raw H2         0\n",
       "Raw Ethanol    0\n",
       "Pressure       0\n",
       "PM1.0          0\n",
       "PM2.5          0\n",
       "NC0.5          0\n",
       "NC1.0          0\n",
       "NC2.5          0\n",
       "CNT            0\n",
       "Fire Alarm     0\n",
       "dtype: int64"
      ]
     },
     "execution_count": 8,
     "metadata": {},
     "output_type": "execute_result"
    }
   ],
   "source": [
    "# checking for null values...\n",
    "df.isna().sum()"
   ]
  },
  {
   "cell_type": "code",
   "execution_count": 9,
   "id": "2e2f98ad",
   "metadata": {},
   "outputs": [
    {
     "data": {
      "image/png": "[encoded data removed]",
      "text/plain": [
       "<Figure size 1800x720 with 2 Axes>"
      ]
     },
     "metadata": {
      "needs_background": "light"
     },
     "output_type": "display_data"
    }
   ],
   "source": [
    "# visualizing the null values...\n",
    "msno.matrix(df);"
   ]
  },
  {
   "cell_type": "code",
   "execution_count": 10,
   "id": "f2baeaf7",
   "metadata": {},
   "outputs": [
    {
     "name": "stdout",
     "output_type": "stream",
     "text": [
      "Unnamed: 0 ----> 62630\n",
      "UTC ----> 62630\n",
      "Temperature ----> 21672\n",
      "Humidity ----> 3890\n",
      "TVOC ----> 1966\n",
      "eCO2 ----> 1713\n",
      "Raw H2 ----> 1830\n",
      "Raw Ethanol ----> 2659\n",
      "Pressure ----> 2213\n",
      "PM1.0 ----> 1337\n",
      "PM2.5 ----> 1351\n",
      "NC0.5 ----> 3093\n",
      "NC1.0 ----> 4113\n",
      "NC2.5 ----> 1161\n",
      "CNT ----> 24994\n",
      "Fire Alarm ----> 2\n"
     ]
    }
   ],
   "source": [
    "# unique values in each column\n",
    "features = df.columns\n",
    "for feature in features:\n",
    "    print(f\"{feature} ----> {df[feature].nunique()}\")"
   ]
  },
  {
   "cell_type": "code",
   "execution_count": 11,
   "id": "2a01481a",
   "metadata": {},
   "outputs": [
    {
     "data": {
      "text/plain": [
       "1    44757\n",
       "0    17873\n",
       "Name: Fire Alarm, dtype: int64"
      ]
     },
     "execution_count": 11,
     "metadata": {},
     "output_type": "execute_result"
    }
   ],
   "source": [
    "# checking the target label proportion in the data...\n",
    "alarm = df[\"Fire Alarm\"].value_counts()\n",
    "alarm "
   ]
  },
  {
   "cell_type": "code",
   "execution_count": 12,
   "id": "10de1617",
   "metadata": {},
   "outputs": [
    {
     "data": {
      "image/png": "[encoded data removed]",
      "text/plain": [
       "<Figure size 720x576 with 1 Axes>"
      ]
     },
     "metadata": {},
     "output_type": "display_data"
    }
   ],
   "source": [
    "# let's visualize the proportion\n",
    "plt.figure(figsize=(10,8))\n",
    "labels = alarm.index\n",
    "colors = sns.color_palette(\"tab10\")\n",
    "explode = [0.25,0]\n",
    "plt.pie(alarm,labels = labels, colors = colors, autopct = \"%.2f%%\",explode=explode)\n",
    "plt.title(\"Fire Alarm\")\n",
    "plt.show()"
   ]
  },
  {
   "cell_type": "code",
   "execution_count": 13,
   "id": "c4181994",
   "metadata": {},
   "outputs": [
    {
     "data": {
      "text/html": [
       "<div>\n",
       "<style scoped>\n",
       "    .dataframe tbody tr th:only-of-type {\n",
       "        vertical-align: middle;\n",
       "    }\n",
       "\n",
       "    .dataframe tbody tr th {\n",
       "        vertical-align: top;\n",
       "    }\n",
       "\n",
       "    .dataframe thead th {\n",
       "        text-align: right;\n",
       "    }\n",
       "</style>\n",
       "<table border=\"1\" class=\"dataframe\">\n",
       "  <thead>\n",
       "    <tr style=\"text-align: right;\">\n",
       "      <th></th>\n",
       "      <th>Unnamed: 0</th>\n",
       "      <th>UTC</th>\n",
       "      <th>Temperature</th>\n",
       "      <th>Humidity</th>\n",
       "      <th>TVOC</th>\n",
       "      <th>eCO2</th>\n",
       "      <th>Raw H2</th>\n",
       "      <th>Raw Ethanol</th>\n",
       "      <th>Pressure</th>\n",
       "      <th>PM1.0</th>\n",
       "      <th>PM2.5</th>\n",
       "      <th>NC0.5</th>\n",
       "      <th>NC1.0</th>\n",
       "      <th>NC2.5</th>\n",
       "      <th>CNT</th>\n",
       "      <th>Fire Alarm</th>\n",
       "    </tr>\n",
       "  </thead>\n",
       "  <tbody>\n",
       "    <tr>\n",
       "      <th>49252</th>\n",
       "      <td>49252</td>\n",
       "      <td>1654785601</td>\n",
       "      <td>26.780</td>\n",
       "      <td>47.65</td>\n",
       "      <td>1208</td>\n",
       "      <td>400</td>\n",
       "      <td>13017</td>\n",
       "      <td>19429</td>\n",
       "      <td>938.779</td>\n",
       "      <td>2.54</td>\n",
       "      <td>2.64</td>\n",
       "      <td>17.48</td>\n",
       "      <td>2.725</td>\n",
       "      <td>0.062</td>\n",
       "      <td>24258</td>\n",
       "      <td>1</td>\n",
       "    </tr>\n",
       "    <tr>\n",
       "      <th>40173</th>\n",
       "      <td>40173</td>\n",
       "      <td>1654776522</td>\n",
       "      <td>24.470</td>\n",
       "      <td>53.48</td>\n",
       "      <td>1082</td>\n",
       "      <td>439</td>\n",
       "      <td>12870</td>\n",
       "      <td>19457</td>\n",
       "      <td>938.806</td>\n",
       "      <td>2.12</td>\n",
       "      <td>2.20</td>\n",
       "      <td>14.59</td>\n",
       "      <td>2.275</td>\n",
       "      <td>0.051</td>\n",
       "      <td>15179</td>\n",
       "      <td>1</td>\n",
       "    </tr>\n",
       "    <tr>\n",
       "      <th>23613</th>\n",
       "      <td>23613</td>\n",
       "      <td>1654756944</td>\n",
       "      <td>-19.719</td>\n",
       "      <td>49.33</td>\n",
       "      <td>1412</td>\n",
       "      <td>424</td>\n",
       "      <td>12967</td>\n",
       "      <td>19371</td>\n",
       "      <td>938.701</td>\n",
       "      <td>1.64</td>\n",
       "      <td>1.70</td>\n",
       "      <td>11.29</td>\n",
       "      <td>1.760</td>\n",
       "      <td>0.040</td>\n",
       "      <td>23613</td>\n",
       "      <td>1</td>\n",
       "    </tr>\n",
       "    <tr>\n",
       "      <th>57247</th>\n",
       "      <td>57247</td>\n",
       "      <td>1655124669</td>\n",
       "      <td>25.602</td>\n",
       "      <td>44.45</td>\n",
       "      <td>60</td>\n",
       "      <td>415</td>\n",
       "      <td>12834</td>\n",
       "      <td>20728</td>\n",
       "      <td>937.586</td>\n",
       "      <td>2.46</td>\n",
       "      <td>2.55</td>\n",
       "      <td>16.91</td>\n",
       "      <td>2.637</td>\n",
       "      <td>0.060</td>\n",
       "      <td>361</td>\n",
       "      <td>0</td>\n",
       "    </tr>\n",
       "    <tr>\n",
       "      <th>50127</th>\n",
       "      <td>50127</td>\n",
       "      <td>1654903144</td>\n",
       "      <td>26.160</td>\n",
       "      <td>60.13</td>\n",
       "      <td>544</td>\n",
       "      <td>1816</td>\n",
       "      <td>12868</td>\n",
       "      <td>19425</td>\n",
       "      <td>931.214</td>\n",
       "      <td>9330.18</td>\n",
       "      <td>25042.51</td>\n",
       "      <td>25651.51</td>\n",
       "      <td>28370.426</td>\n",
       "      <td>15125.117</td>\n",
       "      <td>139</td>\n",
       "      <td>1</td>\n",
       "    </tr>\n",
       "    <tr>\n",
       "      <th>50173</th>\n",
       "      <td>50173</td>\n",
       "      <td>1654903190</td>\n",
       "      <td>24.760</td>\n",
       "      <td>33.19</td>\n",
       "      <td>0</td>\n",
       "      <td>792</td>\n",
       "      <td>13296</td>\n",
       "      <td>20004</td>\n",
       "      <td>931.091</td>\n",
       "      <td>292.52</td>\n",
       "      <td>303.97</td>\n",
       "      <td>2013.13</td>\n",
       "      <td>314.019</td>\n",
       "      <td>7.149</td>\n",
       "      <td>185</td>\n",
       "      <td>1</td>\n",
       "    </tr>\n",
       "    <tr>\n",
       "      <th>38129</th>\n",
       "      <td>38129</td>\n",
       "      <td>1654774478</td>\n",
       "      <td>24.490</td>\n",
       "      <td>53.06</td>\n",
       "      <td>1132</td>\n",
       "      <td>534</td>\n",
       "      <td>12833</td>\n",
       "      <td>19450</td>\n",
       "      <td>938.910</td>\n",
       "      <td>2.07</td>\n",
       "      <td>2.15</td>\n",
       "      <td>14.27</td>\n",
       "      <td>2.226</td>\n",
       "      <td>0.050</td>\n",
       "      <td>13135</td>\n",
       "      <td>1</td>\n",
       "    </tr>\n",
       "    <tr>\n",
       "      <th>49130</th>\n",
       "      <td>49130</td>\n",
       "      <td>1654785479</td>\n",
       "      <td>26.750</td>\n",
       "      <td>47.44</td>\n",
       "      <td>1136</td>\n",
       "      <td>400</td>\n",
       "      <td>13040</td>\n",
       "      <td>19440</td>\n",
       "      <td>938.747</td>\n",
       "      <td>2.34</td>\n",
       "      <td>2.43</td>\n",
       "      <td>16.10</td>\n",
       "      <td>2.511</td>\n",
       "      <td>0.057</td>\n",
       "      <td>24136</td>\n",
       "      <td>1</td>\n",
       "    </tr>\n",
       "    <tr>\n",
       "      <th>33323</th>\n",
       "      <td>33323</td>\n",
       "      <td>1654769672</td>\n",
       "      <td>20.670</td>\n",
       "      <td>51.32</td>\n",
       "      <td>315</td>\n",
       "      <td>400</td>\n",
       "      <td>13105</td>\n",
       "      <td>19947</td>\n",
       "      <td>939.380</td>\n",
       "      <td>0.36</td>\n",
       "      <td>0.37</td>\n",
       "      <td>2.45</td>\n",
       "      <td>0.382</td>\n",
       "      <td>0.009</td>\n",
       "      <td>8329</td>\n",
       "      <td>1</td>\n",
       "    </tr>\n",
       "    <tr>\n",
       "      <th>41018</th>\n",
       "      <td>41018</td>\n",
       "      <td>1654777367</td>\n",
       "      <td>26.320</td>\n",
       "      <td>51.17</td>\n",
       "      <td>1084</td>\n",
       "      <td>400</td>\n",
       "      <td>12890</td>\n",
       "      <td>19454</td>\n",
       "      <td>938.791</td>\n",
       "      <td>1.99</td>\n",
       "      <td>2.06</td>\n",
       "      <td>13.67</td>\n",
       "      <td>2.132</td>\n",
       "      <td>0.048</td>\n",
       "      <td>16024</td>\n",
       "      <td>1</td>\n",
       "    </tr>\n",
       "  </tbody>\n",
       "</table>\n",
       "</div>"
      ],
      "text/plain": [
       "       Unnamed: 0         UTC  Temperature  Humidity  TVOC  eCO2  Raw H2  \\\n",
       "49252       49252  1654785601       26.780     47.65  1208   400   13017   \n",
       "40173       40173  1654776522       24.470     53.48  1082   439   12870   \n",
       "23613       23613  1654756944      -19.719     49.33  1412   424   12967   \n",
       "57247       57247  1655124669       25.602     44.45    60   415   12834   \n",
       "50127       50127  1654903144       26.160     60.13   544  1816   12868   \n",
       "50173       50173  1654903190       24.760     33.19     0   792   13296   \n",
       "38129       38129  1654774478       24.490     53.06  1132   534   12833   \n",
       "49130       49130  1654785479       26.750     47.44  1136   400   13040   \n",
       "33323       33323  1654769672       20.670     51.32   315   400   13105   \n",
       "41018       41018  1654777367       26.320     51.17  1084   400   12890   \n",
       "\n",
       "       Raw Ethanol  Pressure    PM1.0     PM2.5     NC0.5      NC1.0  \\\n",
       "49252        19429   938.779     2.54      2.64     17.48      2.725   \n",
       "40173        19457   938.806     2.12      2.20     14.59      2.275   \n",
       "23613        19371   938.701     1.64      1.70     11.29      1.760   \n",
       "57247        20728   937.586     2.46      2.55     16.91      2.637   \n",
       "50127        19425   931.214  9330.18  25042.51  25651.51  28370.426   \n",
       "50173        20004   931.091   292.52    303.97   2013.13    314.019   \n",
       "38129        19450   938.910     2.07      2.15     14.27      2.226   \n",
       "49130        19440   938.747     2.34      2.43     16.10      2.511   \n",
       "33323        19947   939.380     0.36      0.37      2.45      0.382   \n",
       "41018        19454   938.791     1.99      2.06     13.67      2.132   \n",
       "\n",
       "           NC2.5    CNT  Fire Alarm  \n",
       "49252      0.062  24258           1  \n",
       "40173      0.051  15179           1  \n",
       "23613      0.040  23613           1  \n",
       "57247      0.060    361           0  \n",
       "50127  15125.117    139           1  \n",
       "50173      7.149    185           1  \n",
       "38129      0.050  13135           1  \n",
       "49130      0.057  24136           1  \n",
       "33323      0.009   8329           1  \n",
       "41018      0.048  16024           1  "
      ]
     },
     "execution_count": 13,
     "metadata": {},
     "output_type": "execute_result"
    }
   ],
   "source": [
    "# get some random samples of the data..\n",
    "df.sample(10)"
   ]
  },
  {
   "cell_type": "code",
   "execution_count": 14,
   "id": "3884866d",
   "metadata": {},
   "outputs": [
    {
     "data": {
      "image/png": "[encoded data removed]",
      "text/plain": [
       "<Figure size 936x864 with 2 Axes>"
      ]
     },
     "metadata": {
      "needs_background": "light"
     },
     "output_type": "display_data"
    }
   ],
   "source": [
    "# checking the correlation among the data...\n",
    "plt.figure(figsize=(13,12))\n",
    "cor = df.corr()\n",
    "sns.heatmap(cor,annot=True, cmap =\"GnBu\");"
   ]
  },
  {
   "cell_type": "markdown",
   "id": "0b8a1f8c",
   "metadata": {},
   "source": [
    "We can say that CNT, Pressure and Humidity have good correlation with the Target feature.\n",
    "Humidity also has very good correlation with the Presssure and vice versa."
   ]
  },
  {
   "cell_type": "code",
   "execution_count": 15,
   "id": "921374df",
   "metadata": {},
   "outputs": [
    {
     "data": {
      "image/png": "[encoded data removed]",
      "text/plain": [
       "<Figure size 720x576 with 1 Axes>"
      ]
     },
     "metadata": {
      "needs_background": "light"
     },
     "output_type": "display_data"
    }
   ],
   "source": [
    "plt.figure(figsize=(10,8))\n",
    "corr = df.corr()[\"Fire Alarm\"].sort_values(ascending=False)\n",
    "ind = corr.index\n",
    "labels = []\n",
    "cor = []\n",
    "for i in range(1,len(ind)):\n",
    "    labels.append(ind[i])\n",
    "    cor.append(corr[i])\n",
    "    \n",
    "sns.barplot(cor,labels,palette = \"mako\")\n",
    "plt.title(\"Correlation between different features and Fire Alarm\")\n",
    "plt.show();"
   ]
  },
  {
   "cell_type": "code",
   "execution_count": 16,
   "id": "ad6b2821",
   "metadata": {},
   "outputs": [],
   "source": [
    "# from above figure we have to drop some columns which are unnecessary\n",
    "df.drop(columns = ['Unnamed: 0','UTC','CNT'],inplace = True)"
   ]
  },
  {
   "cell_type": "code",
   "execution_count": 17,
   "id": "813c0494",
   "metadata": {},
   "outputs": [
    {
     "data": {
      "image/png": "[encoded data removed]",
      "text/plain": [
       "<Figure size 720x576 with 1 Axes>"
      ]
     },
     "metadata": {
      "needs_background": "light"
     },
     "output_type": "display_data"
    }
   ],
   "source": [
    "# checking the humidity \n",
    "plt.figure(figsize=(10,8))\n",
    "sns.histplot(df[\"Humidity\"]);"
   ]
  },
  {
   "cell_type": "code",
   "execution_count": 18,
   "id": "243ab66a",
   "metadata": {},
   "outputs": [
    {
     "data": {
      "image/png": "[encoded data removed]",
      "text/plain": [
       "<Figure size 720x576 with 1 Axes>"
      ]
     },
     "metadata": {
      "needs_background": "light"
     },
     "output_type": "display_data"
    }
   ],
   "source": [
    "# checking the pressure distribution...\n",
    "plt.figure(figsize=(10,8))\n",
    "sns.histplot(df[\"Pressure\"]);"
   ]
  },
  {
   "cell_type": "markdown",
   "id": "0219dadb",
   "metadata": {},
   "source": [
    "# Outliers"
   ]
  },
  {
   "cell_type": "code",
   "execution_count": 19,
   "id": "283e7f1e",
   "metadata": {},
   "outputs": [
    {
     "data": {
      "image/png": "[encoded data removed]",
      "text/plain": [
       "<Figure size 720x576 with 1 Axes>"
      ]
     },
     "metadata": {
      "needs_background": "light"
     },
     "output_type": "display_data"
    }
   ],
   "source": [
    "# In statistics, outlier is defined as the observation that is far from the other observations.\n",
    "# we'll select the 4 features for outliers checking\n",
    "# first we'll check the Univariate outliers using Boxplot, outliers may be spotted as as individual points...\n",
    "# plot the Humidity feature....\n",
    "plt.figure(figsize=(10,8))\n",
    "sns.boxplot(df[\"Humidity\"]);"
   ]
  },
  {
   "cell_type": "code",
   "execution_count": 20,
   "id": "3c8ef95c",
   "metadata": {},
   "outputs": [
    {
     "data": {
      "image/png": "[encoded data removed]",
      "text/plain": [
       "<Figure size 720x576 with 1 Axes>"
      ]
     },
     "metadata": {
      "needs_background": "light"
     },
     "output_type": "display_data"
    }
   ],
   "source": [
    "# check the Pressure feature...\n",
    "plt.figure(figsize=(10,8))\n",
    "sns.boxplot(df[\"Pressure\"]);"
   ]
  },
  {
   "cell_type": "code",
   "execution_count": 21,
   "id": "3fb43c0c",
   "metadata": {},
   "outputs": [
    {
     "data": {
      "text/plain": [
       "Text(0.5, 1.0, 'Raw H2 Outlier Check')"
      ]
     },
     "execution_count": 21,
     "metadata": {},
     "output_type": "execute_result"
    },
    {
     "data": {
      "image/png": "[encoded data removed]",
      "text/plain": [
       "<Figure size 720x576 with 1 Axes>"
      ]
     },
     "metadata": {
      "needs_background": "light"
     },
     "output_type": "display_data"
    }
   ],
   "source": [
    "# check the H2 feature....\n",
    "plt.figure(figsize=(10,8))\n",
    "sns.boxplot(df[\"Raw H2\"]);\n",
    "plt.title(\"Raw H2 Outlier Check\")"
   ]
  },
  {
   "cell_type": "raw",
   "id": "eea5fa3f",
   "metadata": {},
   "source": [
    "# except the CNT all three features have the outliers...\n",
    "let's identify the outliers using IQR (inter quantile range which is Q3 - Q1, Where Q3 is the third quantile and Q1 is first quanitle) method defines the outliers values which are greater than Q3 + 1.5 * IQR or less than Q1 - 1.5 * IQR."
   ]
  },
  {
   "cell_type": "code",
   "execution_count": 22,
   "id": "91c8a75f",
   "metadata": {},
   "outputs": [
    {
     "name": "stdout",
     "output_type": "stream",
     "text": [
      "Temperature      14.41525\n",
      "Humidity          5.71000\n",
      "TVOC           1059.00000\n",
      "eCO2             38.00000\n",
      "Raw H2          279.00000\n",
      "Raw Ethanol     643.00000\n",
      "Pressure          0.71800\n",
      "PM1.0             0.81000\n",
      "PM2.5             0.84000\n",
      "NC0.5             5.60000\n",
      "NC1.0             0.86500\n",
      "NC2.5             0.01800\n",
      "Fire Alarm        1.00000\n",
      "dtype: float64\n"
     ]
    }
   ],
   "source": [
    "# find the quantile...\n",
    "q1,q3 = df.quantile(0.25),df.quantile(0.75)\n",
    "iqr = q3 - q1\n",
    "print(iqr)"
   ]
  },
  {
   "cell_type": "code",
   "execution_count": 24,
   "id": "d3aff237",
   "metadata": {},
   "outputs": [
    {
     "data": {
      "text/html": [
       "<div>\n",
       "<style scoped>\n",
       "    .dataframe tbody tr th:only-of-type {\n",
       "        vertical-align: middle;\n",
       "    }\n",
       "\n",
       "    .dataframe tbody tr th {\n",
       "        vertical-align: top;\n",
       "    }\n",
       "\n",
       "    .dataframe thead th {\n",
       "        text-align: right;\n",
       "    }\n",
       "</style>\n",
       "<table border=\"1\" class=\"dataframe\">\n",
       "  <thead>\n",
       "    <tr style=\"text-align: right;\">\n",
       "      <th></th>\n",
       "      <th>Temperature</th>\n",
       "      <th>Humidity</th>\n",
       "      <th>TVOC</th>\n",
       "      <th>eCO2</th>\n",
       "      <th>Raw H2</th>\n",
       "      <th>Raw Ethanol</th>\n",
       "      <th>Pressure</th>\n",
       "      <th>PM1.0</th>\n",
       "      <th>PM2.5</th>\n",
       "      <th>NC0.5</th>\n",
       "      <th>NC1.0</th>\n",
       "      <th>NC2.5</th>\n",
       "      <th>Fire Alarm</th>\n",
       "    </tr>\n",
       "  </thead>\n",
       "  <tbody>\n",
       "    <tr>\n",
       "      <th>240</th>\n",
       "      <td>23.056</td>\n",
       "      <td>51.11</td>\n",
       "      <td>1</td>\n",
       "      <td>400</td>\n",
       "      <td>12626</td>\n",
       "      <td>19698</td>\n",
       "      <td>939.810</td>\n",
       "      <td>0.08</td>\n",
       "      <td>0.14</td>\n",
       "      <td>0.43</td>\n",
       "      <td>0.156</td>\n",
       "      <td>0.056</td>\n",
       "      <td>0</td>\n",
       "    </tr>\n",
       "    <tr>\n",
       "      <th>247</th>\n",
       "      <td>23.131</td>\n",
       "      <td>50.08</td>\n",
       "      <td>5</td>\n",
       "      <td>400</td>\n",
       "      <td>12633</td>\n",
       "      <td>19696</td>\n",
       "      <td>939.813</td>\n",
       "      <td>0.09</td>\n",
       "      <td>0.17</td>\n",
       "      <td>0.46</td>\n",
       "      <td>0.189</td>\n",
       "      <td>0.074</td>\n",
       "      <td>0</td>\n",
       "    </tr>\n",
       "    <tr>\n",
       "      <th>248</th>\n",
       "      <td>23.142</td>\n",
       "      <td>50.00</td>\n",
       "      <td>0</td>\n",
       "      <td>400</td>\n",
       "      <td>12629</td>\n",
       "      <td>19704</td>\n",
       "      <td>939.790</td>\n",
       "      <td>0.10</td>\n",
       "      <td>0.17</td>\n",
       "      <td>0.49</td>\n",
       "      <td>0.189</td>\n",
       "      <td>0.072</td>\n",
       "      <td>0</td>\n",
       "    </tr>\n",
       "    <tr>\n",
       "      <th>249</th>\n",
       "      <td>23.153</td>\n",
       "      <td>49.85</td>\n",
       "      <td>12</td>\n",
       "      <td>400</td>\n",
       "      <td>12630</td>\n",
       "      <td>19698</td>\n",
       "      <td>939.791</td>\n",
       "      <td>0.10</td>\n",
       "      <td>0.18</td>\n",
       "      <td>0.50</td>\n",
       "      <td>0.195</td>\n",
       "      <td>0.074</td>\n",
       "      <td>0</td>\n",
       "    </tr>\n",
       "    <tr>\n",
       "      <th>250</th>\n",
       "      <td>23.163</td>\n",
       "      <td>49.71</td>\n",
       "      <td>11</td>\n",
       "      <td>400</td>\n",
       "      <td>12637</td>\n",
       "      <td>19710</td>\n",
       "      <td>939.812</td>\n",
       "      <td>0.10</td>\n",
       "      <td>0.17</td>\n",
       "      <td>0.49</td>\n",
       "      <td>0.192</td>\n",
       "      <td>0.073</td>\n",
       "      <td>0</td>\n",
       "    </tr>\n",
       "    <tr>\n",
       "      <th>...</th>\n",
       "      <td>...</td>\n",
       "      <td>...</td>\n",
       "      <td>...</td>\n",
       "      <td>...</td>\n",
       "      <td>...</td>\n",
       "      <td>...</td>\n",
       "      <td>...</td>\n",
       "      <td>...</td>\n",
       "      <td>...</td>\n",
       "      <td>...</td>\n",
       "      <td>...</td>\n",
       "      <td>...</td>\n",
       "      <td>...</td>\n",
       "    </tr>\n",
       "    <tr>\n",
       "      <th>56967</th>\n",
       "      <td>24.173</td>\n",
       "      <td>44.99</td>\n",
       "      <td>17</td>\n",
       "      <td>415</td>\n",
       "      <td>12863</td>\n",
       "      <td>20774</td>\n",
       "      <td>937.630</td>\n",
       "      <td>2.18</td>\n",
       "      <td>2.26</td>\n",
       "      <td>15.00</td>\n",
       "      <td>2.340</td>\n",
       "      <td>0.053</td>\n",
       "      <td>0</td>\n",
       "    </tr>\n",
       "    <tr>\n",
       "      <th>56968</th>\n",
       "      <td>24.212</td>\n",
       "      <td>45.00</td>\n",
       "      <td>27</td>\n",
       "      <td>426</td>\n",
       "      <td>12853</td>\n",
       "      <td>20763</td>\n",
       "      <td>937.634</td>\n",
       "      <td>2.18</td>\n",
       "      <td>2.26</td>\n",
       "      <td>15.00</td>\n",
       "      <td>2.339</td>\n",
       "      <td>0.053</td>\n",
       "      <td>0</td>\n",
       "    </tr>\n",
       "    <tr>\n",
       "      <th>56969</th>\n",
       "      <td>24.251</td>\n",
       "      <td>45.00</td>\n",
       "      <td>7</td>\n",
       "      <td>414</td>\n",
       "      <td>12870</td>\n",
       "      <td>20795</td>\n",
       "      <td>937.624</td>\n",
       "      <td>2.17</td>\n",
       "      <td>2.26</td>\n",
       "      <td>14.95</td>\n",
       "      <td>2.332</td>\n",
       "      <td>0.053</td>\n",
       "      <td>0</td>\n",
       "    </tr>\n",
       "    <tr>\n",
       "      <th>56971</th>\n",
       "      <td>24.329</td>\n",
       "      <td>42.89</td>\n",
       "      <td>31</td>\n",
       "      <td>415</td>\n",
       "      <td>12871</td>\n",
       "      <td>20756</td>\n",
       "      <td>937.625</td>\n",
       "      <td>2.15</td>\n",
       "      <td>2.24</td>\n",
       "      <td>14.81</td>\n",
       "      <td>2.310</td>\n",
       "      <td>0.052</td>\n",
       "      <td>0</td>\n",
       "    </tr>\n",
       "    <tr>\n",
       "      <th>56973</th>\n",
       "      <td>24.405</td>\n",
       "      <td>41.35</td>\n",
       "      <td>31</td>\n",
       "      <td>413</td>\n",
       "      <td>12864</td>\n",
       "      <td>20766</td>\n",
       "      <td>937.625</td>\n",
       "      <td>2.19</td>\n",
       "      <td>2.27</td>\n",
       "      <td>15.07</td>\n",
       "      <td>2.350</td>\n",
       "      <td>0.053</td>\n",
       "      <td>0</td>\n",
       "    </tr>\n",
       "  </tbody>\n",
       "</table>\n",
       "<p>35689 rows × 13 columns</p>\n",
       "</div>"
      ],
      "text/plain": [
       "       Temperature  Humidity  TVOC  eCO2  Raw H2  Raw Ethanol  Pressure  \\\n",
       "240         23.056     51.11     1   400   12626        19698   939.810   \n",
       "247         23.131     50.08     5   400   12633        19696   939.813   \n",
       "248         23.142     50.00     0   400   12629        19704   939.790   \n",
       "249         23.153     49.85    12   400   12630        19698   939.791   \n",
       "250         23.163     49.71    11   400   12637        19710   939.812   \n",
       "...            ...       ...   ...   ...     ...          ...       ...   \n",
       "56967       24.173     44.99    17   415   12863        20774   937.630   \n",
       "56968       24.212     45.00    27   426   12853        20763   937.634   \n",
       "56969       24.251     45.00     7   414   12870        20795   937.624   \n",
       "56971       24.329     42.89    31   415   12871        20756   937.625   \n",
       "56973       24.405     41.35    31   413   12864        20766   937.625   \n",
       "\n",
       "       PM1.0  PM2.5  NC0.5  NC1.0  NC2.5  Fire Alarm  \n",
       "240     0.08   0.14   0.43  0.156  0.056           0  \n",
       "247     0.09   0.17   0.46  0.189  0.074           0  \n",
       "248     0.10   0.17   0.49  0.189  0.072           0  \n",
       "249     0.10   0.18   0.50  0.195  0.074           0  \n",
       "250     0.10   0.17   0.49  0.192  0.073           0  \n",
       "...      ...    ...    ...    ...    ...         ...  \n",
       "56967   2.18   2.26  15.00  2.340  0.053           0  \n",
       "56968   2.18   2.26  15.00  2.339  0.053           0  \n",
       "56969   2.17   2.26  14.95  2.332  0.053           0  \n",
       "56971   2.15   2.24  14.81  2.310  0.052           0  \n",
       "56973   2.19   2.27  15.07  2.350  0.053           0  \n",
       "\n",
       "[35689 rows x 13 columns]"
      ]
     },
     "execution_count": 24,
     "metadata": {},
     "output_type": "execute_result"
    }
   ],
   "source": [
    "# filter the data based on outliers......\n",
    "ul = q3 + 1.5 * iqr\n",
    "ll = q1 - 1.5 * iqr\n",
    "new_df = df[~((df < ll) | (df > ul)).any(axis=1)]\n",
    "new_df"
   ]
  },
  {
   "cell_type": "code",
   "execution_count": 25,
   "id": "3ef38db0",
   "metadata": {},
   "outputs": [
    {
     "name": "stdout",
     "output_type": "stream",
     "text": [
      "Old Data Frame has 62630 rows\n",
      "\n",
      "New Data Frame has 35689 rows\n"
     ]
    }
   ],
   "source": [
    "# comparing the shape of both data frames...\n",
    "print(f\"Old Data Frame has {df.shape[0]} rows\\n\")\n",
    "print(f\"New Data Frame has {new_df.shape[0]} rows\")"
   ]
  },
  {
   "cell_type": "raw",
   "id": "b1c1398d",
   "metadata": {},
   "source": [
    "# nearly half of the data has to removed because it contains the outlier...."
   ]
  },
  {
   "cell_type": "markdown",
   "id": "28e4d476",
   "metadata": {},
   "source": [
    "# Data Preprocessing"
   ]
  },
  {
   "cell_type": "code",
   "execution_count": 26,
   "id": "f2c7e8f6",
   "metadata": {},
   "outputs": [],
   "source": [
    "# separate X and y\n",
    "X = new_df.drop(\"Fire Alarm\",axis=1)\n",
    "y = new_df[\"Fire Alarm\"]"
   ]
  },
  {
   "cell_type": "code",
   "execution_count": 27,
   "id": "6d458bc7",
   "metadata": {},
   "outputs": [
    {
     "data": {
      "text/plain": [
       "(26766, 26766, 8923, 8923)"
      ]
     },
     "execution_count": 27,
     "metadata": {},
     "output_type": "execute_result"
    }
   ],
   "source": [
    "# splitting the train and test set....\n",
    "X_train, X_test, y_train, y_test = train_test_split(X,y,\n",
    "                                                   test_size = 0.25,\n",
    "                                                   random_state = 42)\n",
    "# checking the size....\n",
    "len(X_train), len(y_train), len(X_test), len(y_test)"
   ]
  },
  {
   "cell_type": "code",
   "execution_count": 28,
   "id": "bfd2054e",
   "metadata": {},
   "outputs": [],
   "source": [
    "# as values in the data are in different ranges so we'll transform all features by scaling it to given range....\n",
    "sc = MinMaxScaler()\n",
    "X_train = sc.fit_transform(X_train)\n",
    "X_test = sc.transform(X_test)"
   ]
  },
  {
   "cell_type": "code",
   "execution_count": 29,
   "id": "ab20be20",
   "metadata": {},
   "outputs": [
    {
     "data": {
      "text/plain": [
       "array([[0.77805148, 0.56847291, 0.8261745 , ..., 0.545961  , 0.5416291 ,\n",
       "        0.51428571],\n",
       "       [0.0516288 , 0.44876847, 0.07986577, ..., 0.42107707, 0.41538924,\n",
       "        0.37142857],\n",
       "       [0.89367585, 0.49014778, 0.88322148, ..., 0.67455896, 0.6714758 ,\n",
       "        0.65714286],\n",
       "       ...,\n",
       "       [0.64990951, 0.58916256, 0.77114094, ..., 0.44568245, 0.44063721,\n",
       "        0.4       ],\n",
       "       [0.90697265, 0.52807882, 0.        , ..., 0.14391829, 0.13585813,\n",
       "        0.07142857],\n",
       "       [0.01988236, 0.44581281, 0.8704698 , ..., 0.61188487, 0.60805531,\n",
       "        0.58571429]])"
      ]
     },
     "execution_count": 29,
     "metadata": {},
     "output_type": "execute_result"
    }
   ],
   "source": [
    "X_train"
   ]
  },
  {
   "cell_type": "markdown",
   "id": "1721caf0",
   "metadata": {},
   "source": [
    "# Modelling\n",
    "\n",
    "    We'll build a series a models and select the one that perfroms best."
   ]
  },
  {
   "cell_type": "code",
   "execution_count": 30,
   "id": "f36ecaa7",
   "metadata": {},
   "outputs": [],
   "source": [
    "# let's make a function that will takes models and return it scores\n",
    "\n",
    "def build_model(models,X_train,y_train,X_test,y_test):\n",
    "    \n",
    "    names = []\n",
    "    scores = []\n",
    "    for name,model in models.items():\n",
    "        names.append(name)\n",
    "        model.fit(X_train,y_train)\n",
    "        y_pred = model.predict(X_test)\n",
    "        scores.append(accuracy_score(y_test,y_pred))\n",
    "        final_scores = pd.DataFrame({'Name':names,'Accuracy':scores,})\n",
    "    return final_scores"
   ]
  },
  {
   "cell_type": "code",
   "execution_count": 31,
   "id": "dc97a52b",
   "metadata": {},
   "outputs": [],
   "source": [
    "models = {\"KNN\" : KNeighborsClassifier(), \"LogisticRegression\" : LogisticRegression(),\n",
    "         \"SupportVector\" : SVC(), \"NaiveBayesClf\" : GaussianNB(), \"DecisionTreeClf\" : DecisionTreeClassifier(),\n",
    "         \"RandomForestClf\" : RandomForestClassifier(), \"ExtraTreeClf\" : ExtraTreesClassifier(), \n",
    "         \"AdaBoostClf\" : AdaBoostClassifier()}"
   ]
  },
  {
   "cell_type": "code",
   "execution_count": 32,
   "id": "f9d7627a",
   "metadata": {},
   "outputs": [
    {
     "data": {
      "text/html": [
       "<div>\n",
       "<style scoped>\n",
       "    .dataframe tbody tr th:only-of-type {\n",
       "        vertical-align: middle;\n",
       "    }\n",
       "\n",
       "    .dataframe tbody tr th {\n",
       "        vertical-align: top;\n",
       "    }\n",
       "\n",
       "    .dataframe thead th {\n",
       "        text-align: right;\n",
       "    }\n",
       "</style>\n",
       "<table border=\"1\" class=\"dataframe\">\n",
       "  <thead>\n",
       "    <tr style=\"text-align: right;\">\n",
       "      <th></th>\n",
       "      <th>Name</th>\n",
       "      <th>Accuracy</th>\n",
       "    </tr>\n",
       "  </thead>\n",
       "  <tbody>\n",
       "    <tr>\n",
       "      <th>0</th>\n",
       "      <td>KNN</td>\n",
       "      <td>0.999664</td>\n",
       "    </tr>\n",
       "    <tr>\n",
       "      <th>1</th>\n",
       "      <td>LogisticRegression</td>\n",
       "      <td>0.984758</td>\n",
       "    </tr>\n",
       "    <tr>\n",
       "      <th>2</th>\n",
       "      <td>SupportVector</td>\n",
       "      <td>0.999776</td>\n",
       "    </tr>\n",
       "    <tr>\n",
       "      <th>3</th>\n",
       "      <td>NaiveBayesClf</td>\n",
       "      <td>0.917404</td>\n",
       "    </tr>\n",
       "    <tr>\n",
       "      <th>4</th>\n",
       "      <td>DecisionTreeClf</td>\n",
       "      <td>0.999664</td>\n",
       "    </tr>\n",
       "    <tr>\n",
       "      <th>5</th>\n",
       "      <td>RandomForestClf</td>\n",
       "      <td>0.999664</td>\n",
       "    </tr>\n",
       "    <tr>\n",
       "      <th>6</th>\n",
       "      <td>ExtraTreeClf</td>\n",
       "      <td>0.999888</td>\n",
       "    </tr>\n",
       "    <tr>\n",
       "      <th>7</th>\n",
       "      <td>AdaBoostClf</td>\n",
       "      <td>1.000000</td>\n",
       "    </tr>\n",
       "  </tbody>\n",
       "</table>\n",
       "</div>"
      ],
      "text/plain": [
       "                 Name  Accuracy\n",
       "0                 KNN  0.999664\n",
       "1  LogisticRegression  0.984758\n",
       "2       SupportVector  0.999776\n",
       "3       NaiveBayesClf  0.917404\n",
       "4     DecisionTreeClf  0.999664\n",
       "5     RandomForestClf  0.999664\n",
       "6        ExtraTreeClf  0.999888\n",
       "7         AdaBoostClf  1.000000"
      ]
     },
     "execution_count": 32,
     "metadata": {},
     "output_type": "execute_result"
    }
   ],
   "source": [
    "scores = build_model(models,X_train,y_train,X_test,y_test)\n",
    "scores"
   ]
  },
  {
   "cell_type": "code",
   "execution_count": null,
   "id": "c672b310",
   "metadata": {},
   "outputs": [],
   "source": []
  },
  {
   "cell_type": "code",
   "execution_count": null,
   "id": "5b6780d2",
   "metadata": {},
   "outputs": [],
   "source": []
  }
 ],
 "metadata": {
  "kernelspec": {
   "display_name": "Python 3 (ipykernel)",
   "language": "python",
   "name": "python3"
  },
  "language_info": {
   "codemirror_mode": {
    "name": "ipython",
    "version": 3
   },
   "file_extension": ".py",
   "mimetype": "text/x-python",
   "name": "python",
   "nbconvert_exporter": "python",
   "pygments_lexer": "ipython3",
   "version": "3.8.13"
  }
 },
 "nbformat": 4,
 "nbformat_minor": 5
}
